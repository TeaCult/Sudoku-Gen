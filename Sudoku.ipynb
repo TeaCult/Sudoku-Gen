{
 "cells": [
  {
   "cell_type": "markdown",
   "metadata": {},
   "source": [
    "Bir Sudoku Denemesi by G.G."
   ]
  },
  {
   "cell_type": "markdown",
   "metadata": {},
   "source": [
    "Önce rastgele sayılardan kare bir sayı tablosu yapmayı ve güzelce ekrana çizdirmeyi deneyelim :"
   ]
  },
  {
   "cell_type": "code",
   "execution_count": 1,
   "metadata": {},
   "outputs": [
    {
     "name": "stdout",
     "output_type": "stream",
     "text": [
      "   7   6   5   9   7   1   2   9   3\n",
      "\n",
      "   4   4   5   3   9   3   1   4   7\n",
      "\n",
      "   2   9   9   8   3   9   9   5   5\n",
      "\n",
      "   9   3   8   3   8   1   4   7   3\n",
      "\n",
      "   8   4   6   7   6   1   7   5   1\n",
      "\n",
      "   6   5   5   1   5   4   3   6   5\n",
      "\n",
      "   1   3   9   9   5   1   5   1   7\n",
      "\n",
      "   8   8   9   4   7   3   3   2   4\n",
      "\n",
      "   1   6   4   8   4   3   5   4   5\n"
     ]
    }
   ],
   "source": [
    "import random \n",
    "def gp(obj):\n",
    "    print('\\n\\n'.join([''.join(['{:4}'.format(item) for item in row])  \n",
    "    for row in obj]))\n",
    "\n",
    "s=[]\n",
    "for i in range(1,10):\n",
    "    temp=[]\n",
    "    for j in range(1,10):\n",
    "        temp.append(random.randint(1,9)) \n",
    "    s.append(temp)\n",
    "    \n",
    "gp(s)"
   ]
  },
  {
   "cell_type": "markdown",
   "metadata": {},
   "source": [
    "Birden 9 kadar karışık sayı dizisi oluşturmak için bir kağıt karma gibi sayı karma fonksiyonu yamayı deneyelim:"
   ]
  },
  {
   "cell_type": "code",
   "execution_count": 2,
   "metadata": {},
   "outputs": [
    {
     "name": "stdout",
     "output_type": "stream",
     "text": [
      "[5, 6, 7, 8]\n"
     ]
    },
    {
     "data": {
      "text/plain": [
       "[6, 7, 5, 8]"
      ]
     },
     "execution_count": 2,
     "metadata": {},
     "output_type": "execute_result"
    }
   ],
   "source": [
    "def shuffle(a):\n",
    "    l=len(a)\n",
    "    for i in range(l):\n",
    "        t=a.pop(random.randint(0,l-1))\n",
    "        a.append(t)\n",
    "    return(a)\n",
    "\n",
    "test=[5,6,7,8]\n",
    "print(test)\n",
    "shuffle(test)"
   ]
  },
  {
   "cell_type": "markdown",
   "metadata": {},
   "source": [
    "Sudoku oluşturma stratejimiz önce çözülmüş tahtayı oluşturup aradan bazı sayıları rastlege silmek olacak. Bunun için önce bir kök dizi oluşturup onu öyle bir şekilde kaydıracağız ki kurallara uygun bir tablo çıkacak bunun için bir sayı dizisi kaydırma fonksiyonu yazmayı deneyelim:"
   ]
  },
  {
   "cell_type": "code",
   "execution_count": 3,
   "metadata": {
    "scrolled": true
   },
   "outputs": [
    {
     "name": "stdout",
     "output_type": "stream",
     "text": [
      "[1, 2, 3, 4, 5, 6, 7, 8, 9]\n",
      "[8, 9, 1, 2, 3, 4, 5, 6, 7]\n"
     ]
    }
   ],
   "source": [
    "def shift(a,b):\n",
    "    l=len(a)\n",
    "    r=[]\n",
    "    for i in range(l):\n",
    "        r.append(a[(i-b)%l])\n",
    "    return(r)\n",
    "base=[x for x in range(1,10)]\n",
    "print(base)\n",
    "print(shift(base,2))"
   ]
  },
  {
   "cell_type": "markdown",
   "metadata": {},
   "source": [
    "İlk oluşturuduğumuz rastgele diziyi ilk 3 satırda 3 er 3 er sağa kaydırıp dördüncü satırda 1 kere kaydırıp beşinci ve altıncı satırlarda tekrar 3 er kaydırıp yedinci satırda tekrar bir kaydırıp sekiz ve dokuzuncu satırlarda tekrar 3 er kaydırarak kurallara uygun bir sudoku tablosunu oluşturmayı deneyelim:\n",
    "\n",
    "Kaydırmalar:\n",
    "0\n",
    "3\n",
    "3\n",
    "1\n",
    "3\n",
    "3\n",
    "1\n",
    "3\n",
    "3"
   ]
  },
  {
   "cell_type": "code",
   "execution_count": 4,
   "metadata": {},
   "outputs": [
    {
     "name": "stdout",
     "output_type": "stream",
     "text": [
      "   3   4   7   1   6   9   2   5   8\n",
      "\n",
      "   2   5   8   3   4   7   1   6   9\n",
      "\n",
      "   1   6   9   2   5   8   3   4   7\n",
      "\n",
      "   7   1   6   9   2   5   8   3   4\n",
      "\n",
      "   8   3   4   7   1   6   9   2   5\n",
      "\n",
      "   9   2   5   8   3   4   7   1   6\n",
      "\n",
      "   6   9   2   5   8   3   4   7   1\n",
      "\n",
      "   4   7   1   6   9   2   5   8   3\n",
      "\n",
      "   5   8   3   4   7   1   6   9   2\n"
     ]
    }
   ],
   "source": [
    "base=[x for x in range(1,10)]\n",
    "root=shuffle(base)\n",
    "s=[]\n",
    "\n",
    "s.append(base)\n",
    "for i in range(2):\n",
    "    base=shift(base,3)\n",
    "    s.append(base)\n",
    "\n",
    "for i in range(2):\n",
    "    base=shift(base,1)\n",
    "    s.append(base)\n",
    "\n",
    "    for j in range(2):\n",
    "        base=shift(base,3)\n",
    "        s.append(base)\n",
    "\n",
    "gp(s)"
   ]
  },
  {
   "cell_type": "markdown",
   "metadata": {},
   "source": [
    "Çok belirgin bir pattern oluştuğu için bunu bozmak üzere sudoku tahtasını biraz karmalıyız. İlk 3 satır kendi aralarında yer değiştirdiğinde kurallara uygunluk bozulmamalı fakat bunu nasıl bir kodla yapacağımızı deneyelim:"
   ]
  },
  {
   "cell_type": "code",
   "execution_count": 5,
   "metadata": {},
   "outputs": [
    {
     "name": "stdout",
     "output_type": "stream",
     "text": [
      "   3   4   7   1   6   9   2   5   8\n",
      "\n",
      "   2   5   8   3   4   7   1   6   9\n",
      "\n",
      "   1   6   9   2   5   8   3   4   7\n",
      "\n",
      "\n",
      "   2   5   8   3   4   7   1   6   9\n",
      "\n",
      "   1   6   9   2   5   8   3   4   7\n",
      "\n",
      "   3   4   7   1   6   9   2   5   8\n"
     ]
    }
   ],
   "source": [
    "gp(s[0:3])\n",
    "print('\\n')\n",
    "gp(shuffle(s[0:3]))"
   ]
  },
  {
   "cell_type": "markdown",
   "metadata": {},
   "source": [
    "Aynı şekilde ikinci 3 satırı ya da üçüncü 3 satırı değiştirdiğimde de aynı şekilde kural bozulmamalı, deneyelim:"
   ]
  },
  {
   "cell_type": "code",
   "execution_count": 6,
   "metadata": {},
   "outputs": [
    {
     "name": "stdout",
     "output_type": "stream",
     "text": [
      "   3   4   7   1   6   9   2   5   8\n",
      "\n",
      "   2   5   8   3   4   7   1   6   9\n",
      "\n",
      "   1   6   9   2   5   8   3   4   7\n",
      "\n",
      "   7   1   6   9   2   5   8   3   4\n",
      "\n",
      "   8   3   4   7   1   6   9   2   5\n",
      "\n",
      "   9   2   5   8   3   4   7   1   6\n",
      "\n",
      "   6   9   2   5   8   3   4   7   1\n",
      "\n",
      "   4   7   1   6   9   2   5   8   3\n",
      "\n",
      "   5   8   3   4   7   1   6   9   2\n",
      "\n",
      "\n",
      "\n",
      "\n",
      "   1   6   9   2   5   8   3   4   7\n",
      "\n",
      "   2   5   8   3   4   7   1   6   9\n",
      "\n",
      "   3   4   7   1   6   9   2   5   8\n",
      "\n",
      "   8   3   4   7   1   6   9   2   5\n",
      "\n",
      "   7   1   6   9   2   5   8   3   4\n",
      "\n",
      "   9   2   5   8   3   4   7   1   6\n",
      "\n",
      "   4   7   1   6   9   2   5   8   3\n",
      "\n",
      "   6   9   2   5   8   3   4   7   1\n",
      "\n",
      "   5   8   3   4   7   1   6   9   2\n"
     ]
    }
   ],
   "source": [
    "gp(s)\n",
    "print('\\n\\n\\n')\n",
    "for i in range (3):\n",
    "    s[i*3:i*3+3]=shuffle(s[i*3:i*3+3])\n",
    "gp(s)"
   ]
  },
  {
   "cell_type": "markdown",
   "metadata": {},
   "source": [
    "Aynı işlemler sütünlara da uygulandığında kural bozulmamalı çünkü 9 a 9 içindeki 3 e 3 kare grupları bozmamış oluyoruz, ancak sütünlar üstünde işlem yapmak için tahtanın yani diziler dizisinin (iç içe geçmş diziler [[],[],[]]) değiştirmek ya da yeni fonksiyon yazmak yerine sudoku tahtasını x ve y eksenlerinde aynalayarak yukardaki kodu tekrar kullanma imkanı bulabiliriz, bir aynalama fonksiyonu yazmayı deneyelim: "
   ]
  },
  {
   "cell_type": "code",
   "execution_count": 7,
   "metadata": {},
   "outputs": [
    {
     "name": "stdout",
     "output_type": "stream",
     "text": [
      "   1   2   3\n",
      "\n",
      "   4   5   6\n",
      "\n",
      "   7   8   9\n",
      "\n",
      "\n",
      "   1   4   7\n",
      "\n",
      "   2   5   8\n",
      "\n",
      "   3   6   9\n"
     ]
    }
   ],
   "source": [
    "t=[[1,2,3],[4,5,6],[7,8,9]]\n",
    "gp(t)\n",
    "def mirror(a):\n",
    "    r=[]\n",
    "    l=len(a)\n",
    "    for i in range(l):\n",
    "        temp=[]\n",
    "        for j in range(l):\n",
    "            temp.append(a[j][i])\n",
    "        r.append(temp)\n",
    "    return r\n",
    "\n",
    "print('\\n')\n",
    "gp(mirror(t))"
   ]
  },
  {
   "cell_type": "markdown",
   "metadata": {},
   "source": [
    "Büyük tahtada işe yarıyor mu deneyelim:"
   ]
  },
  {
   "cell_type": "code",
   "execution_count": 8,
   "metadata": {},
   "outputs": [
    {
     "name": "stdout",
     "output_type": "stream",
     "text": [
      "   2   5   8   4   3   1   7   9   6\n",
      "\n",
      "   7   9   6   2   5   8   4   3   1\n",
      "\n",
      "   4   3   1   7   9   6   2   5   8\n",
      "\n",
      "   8   4   3   1   7   9   6   2   5\n",
      "\n",
      "   6   2   5   8   4   3   1   7   9\n",
      "\n",
      "   1   7   9   6   2   5   8   4   3\n",
      "\n",
      "   3   1   7   9   6   2   5   8   4\n",
      "\n",
      "   5   8   4   3   1   7   9   6   2\n",
      "\n",
      "   9   6   2   5   8   4   3   1   7\n",
      "\n",
      " Aynalanmış tahta:\n",
      "\n",
      "   2   7   4   8   6   1   3   5   9\n",
      "\n",
      "   5   9   3   4   2   7   1   8   6\n",
      "\n",
      "   8   6   1   3   5   9   7   4   2\n",
      "\n",
      "   4   2   7   1   8   6   9   3   5\n",
      "\n",
      "   3   5   9   7   4   2   6   1   8\n",
      "\n",
      "   1   8   6   9   3   5   2   7   4\n",
      "\n",
      "   7   4   2   6   1   8   5   9   3\n",
      "\n",
      "   9   3   5   2   7   4   8   6   1\n",
      "\n",
      "   6   1   8   5   9   3   4   2   7\n"
     ]
    }
   ],
   "source": [
    "base=[x for x in range(1,10)]\n",
    "root=shuffle(base)\n",
    "s=[]\n",
    "\n",
    "s.append(base)\n",
    "for i in range(2):\n",
    "    base=shift(base,3)\n",
    "    s.append(base)\n",
    "\n",
    "for i in range(2):\n",
    "    base=shift(base,1)\n",
    "    s.append(base)\n",
    "\n",
    "    for j in range(2):\n",
    "        base=shift(base,3)\n",
    "        s.append(base)\n",
    "\n",
    "gp(s)\n",
    "print('\\n Aynalanmış tahta:\\n')\n",
    "gp(mirror(s))"
   ]
  },
  {
   "cell_type": "markdown",
   "metadata": {},
   "source": [
    "Yaptığımız herşeyi birleştirelim. Önce bir 1 den 9 a kadar olan diziyi kararak rastgele dizi oluşturup sonra bunu kaydıra kaydıra bileştirip, 3 lü gruplar halinde satırları kendi içinde karıp, aynaladıktan sonra tekrar satırları kendi içinde karıp (sütünları karmış oluyoruz aynaladığımız için), bir sudoku son çözümü oluşturalım."
   ]
  },
  {
   "cell_type": "code",
   "execution_count": 9,
   "metadata": {},
   "outputs": [
    {
     "name": "stdout",
     "output_type": "stream",
     "text": [
      "   2   6   1   8   7   5   9   3   4\n",
      "\n",
      "   7   5   8   9   3   4   2   6   1\n",
      "\n",
      "   4   9   3   6   1   2   5   8   7\n",
      "\n",
      "   1   2   6   5   8   7   4   9   3\n",
      "\n",
      "   8   7   5   4   9   3   1   2   6\n",
      "\n",
      "   3   4   9   2   6   1   7   5   8\n",
      "\n",
      "   6   1   2   7   5   8   3   4   9\n",
      "\n",
      "   5   8   7   3   4   9   6   1   2\n",
      "\n",
      "   9   3   4   1   2   6   8   7   5\n"
     ]
    }
   ],
   "source": [
    "base=[x for x in range(1,10)]\n",
    "root=shuffle(base)\n",
    "s=[]\n",
    "\n",
    "s.append(base)\n",
    "for i in range(2):\n",
    "    base=shift(base,3)\n",
    "    s.append(base)\n",
    "\n",
    "for i in range(2):\n",
    "    base=shift(base,1)\n",
    "    s.append(base)\n",
    "\n",
    "    for j in range(2):\n",
    "        base=shift(base,3)\n",
    "        s.append(base)\n",
    "\n",
    "for i in range (3):\n",
    "    s[i*3:i*3+3]=shuffle(s[i*3:i*3+3])\n",
    "\n",
    "s=mirror(s)\n",
    "\n",
    "for i in range (3):\n",
    "    s[i*3:i*3+3]=shuffle(s[i*3:i*3+3])\n",
    "    \n",
    "gp(s)"
   ]
  },
  {
   "cell_type": "markdown",
   "metadata": {},
   "source": [
    " Şimdi bu geçerli sudoku tahtasından yani çözümden, rastgele bazı sayıları silmeyi deneyelim ve soruyu oluşturalım:"
   ]
  },
  {
   "cell_type": "code",
   "execution_count": 10,
   "metadata": {},
   "outputs": [
    {
     "name": "stdout",
     "output_type": "stream",
     "text": [
      "       6   1       7       9        \n",
      "\n",
      "                           2   6    \n",
      "\n",
      "           3           2   5   8    \n",
      "\n",
      "               5                    \n",
      "\n",
      "                                   6\n",
      "\n",
      "           9                   5    \n",
      "\n",
      "   6       2               3        \n",
      "\n",
      "   5       7   3   4                \n",
      "\n",
      "           4   1       6           5\n"
     ]
    }
   ],
   "source": [
    "i=0\n",
    "while i<56:\n",
    "    k=random.randint(0,8)\n",
    "    j=random.randint(0,8)\n",
    "    if s[k][j]==' ':\n",
    "        i=i-1\n",
    "    s[k][j]=' '\n",
    "    i=i+1\n",
    "    \n",
    "gp(s)"
   ]
  },
  {
   "cell_type": "markdown",
   "metadata": {},
   "source": [
    "Şimdi boş yerler güzel görünmediği için sudoku kutularının sınırlarını da çizen bir gp fonksiyonu yazmayı deneyelim:"
   ]
  },
  {
   "cell_type": "code",
   "execution_count": 11,
   "metadata": {},
   "outputs": [],
   "source": [
    "def gp2(obj):\n",
    "    print(('\\n '+len(obj)*'|---'+'|\\n').join([''.join([' |'+'{:2}'.format(item) for item in row])  \n",
    "    for row in obj]))"
   ]
  },
  {
   "cell_type": "code",
   "execution_count": 12,
   "metadata": {},
   "outputs": [
    {
     "name": "stdout",
     "output_type": "stream",
     "text": [
      " |   | 6 | 1 |   | 7 |   | 9 |   |  \n",
      " |---|---|---|---|---|---|---|---|---|\n",
      " |   |   |   |   |   |   | 2 | 6 |  \n",
      " |---|---|---|---|---|---|---|---|---|\n",
      " |   |   | 3 |   |   | 2 | 5 | 8 |  \n",
      " |---|---|---|---|---|---|---|---|---|\n",
      " |   |   |   | 5 |   |   |   |   |  \n",
      " |---|---|---|---|---|---|---|---|---|\n",
      " |   |   |   |   |   |   |   |   | 6\n",
      " |---|---|---|---|---|---|---|---|---|\n",
      " |   |   | 9 |   |   |   |   | 5 |  \n",
      " |---|---|---|---|---|---|---|---|---|\n",
      " | 6 |   | 2 |   |   |   | 3 |   |  \n",
      " |---|---|---|---|---|---|---|---|---|\n",
      " | 5 |   | 7 | 3 | 4 |   |   |   |  \n",
      " |---|---|---|---|---|---|---|---|---|\n",
      " |   |   | 4 | 1 |   | 6 |   |   | 5\n"
     ]
    }
   ],
   "source": [
    "gp2(s)"
   ]
  },
  {
   "cell_type": "markdown",
   "metadata": {},
   "source": [
    "Artık kod elimizde olduğuna göre daha büyük sudoku yazmayı deneyebiliriz. 16 ya 16  bir sudoku oyunu oluşturmayı deneyelim."
   ]
  },
  {
   "cell_type": "code",
   "execution_count": 42,
   "metadata": {
    "scrolled": false
   },
   "outputs": [
    {
     "name": "stdout",
     "output_type": "stream",
     "text": [
      " | 4 |14 | 6 |15 |13 | 2 |16 | 5 | 3 |11 | 1 | 9 | 8 |12 |10 | 7\n",
      " |---|---|---|---|---|---|---|---|---|---|---|---|---|---|---|---|\n",
      " | 7 |12 |10 | 8 |14 | 4 |15 | 6 |16 |13 | 2 | 5 | 1 | 9 | 3 |11\n",
      " |---|---|---|---|---|---|---|---|---|---|---|---|---|---|---|---|\n",
      " | 2 |13 | 5 |16 |11 | 1 | 3 | 9 |10 | 7 | 8 |12 |15 |14 | 6 | 4\n",
      " |---|---|---|---|---|---|---|---|---|---|---|---|---|---|---|---|\n",
      " | 1 |11 | 9 | 3 | 7 | 8 |10 |12 | 6 | 4 |15 |14 |16 |13 | 5 | 2\n",
      " |---|---|---|---|---|---|---|---|---|---|---|---|---|---|---|---|\n",
      " |13 | 5 |16 | 2 | 9 |11 | 1 | 3 | 8 |12 | 7 |10 | 4 | 6 |15 |14\n",
      " |---|---|---|---|---|---|---|---|---|---|---|---|---|---|---|---|\n",
      " |14 | 6 |15 | 4 | 5 |13 | 2 |16 | 1 | 9 |11 | 3 | 7 |10 | 8 |12\n",
      " |---|---|---|---|---|---|---|---|---|---|---|---|---|---|---|---|\n",
      " |11 | 9 | 3 | 1 |12 | 7 | 8 |10 |15 |14 | 4 | 6 | 2 | 5 |16 |13\n",
      " |---|---|---|---|---|---|---|---|---|---|---|---|---|---|---|---|\n",
      " |12 |10 | 8 | 7 | 6 |14 | 4 |15 | 2 | 5 |13 |16 |11 | 3 | 1 | 9\n",
      " |---|---|---|---|---|---|---|---|---|---|---|---|---|---|---|---|\n",
      " | 6 |15 | 4 |14 |16 | 5 |13 | 2 |11 | 3 | 9 | 1 |12 | 8 | 7 |10\n",
      " |---|---|---|---|---|---|---|---|---|---|---|---|---|---|---|---|\n",
      " |10 | 8 | 7 |12 |15 | 6 |14 | 4 |13 |16 | 5 | 2 | 9 | 1 |11 | 3\n",
      " |---|---|---|---|---|---|---|---|---|---|---|---|---|---|---|---|\n",
      " | 5 |16 | 2 |13 | 3 | 9 |11 | 1 | 7 |10 |12 | 8 |14 |15 | 4 | 6\n",
      " |---|---|---|---|---|---|---|---|---|---|---|---|---|---|---|---|\n",
      " | 9 | 3 | 1 |11 |10 |12 | 7 | 8 | 4 | 6 |14 |15 |13 |16 | 2 | 5\n",
      " |---|---|---|---|---|---|---|---|---|---|---|---|---|---|---|---|\n",
      " | 8 | 7 |12 |10 | 4 |15 | 6 |14 | 5 | 2 |16 |13 | 3 |11 | 9 | 1\n",
      " |---|---|---|---|---|---|---|---|---|---|---|---|---|---|---|---|\n",
      " | 3 | 1 |11 | 9 | 8 |10 |12 | 7 |14 |15 | 6 | 4 | 5 | 2 |13 |16\n",
      " |---|---|---|---|---|---|---|---|---|---|---|---|---|---|---|---|\n",
      " |16 | 2 |13 | 5 | 1 | 3 | 9 |11 |12 | 8 |10 | 7 | 6 | 4 |14 |15\n",
      " |---|---|---|---|---|---|---|---|---|---|---|---|---|---|---|---|\n",
      " |15 | 4 |14 | 6 | 2 |16 | 5 |13 | 9 | 1 | 3 |11 |10 | 7 |12 | 8\n"
     ]
    }
   ],
   "source": [
    "base=[x for x in range(1,17)]\n",
    "root=shuffle(base)\n",
    "s=[]\n",
    "\n",
    "s.append(base)\n",
    "for i in range(3):\n",
    "    base=shift(base,4)\n",
    "    s.append(base)\n",
    "\n",
    "for i in range(3):\n",
    "    base=shift(base,1)\n",
    "    s.append(base)\n",
    "\n",
    "    for j in range(3):\n",
    "        base=shift(base,4)\n",
    "        s.append(base)\n",
    "\n",
    "for i in range (4):\n",
    "    s[i*4:i*4+4]=shuffle(s[i*4:i*4+4])\n",
    "\n",
    "s=mirror(s)\n",
    "\n",
    "for i in range (4):\n",
    "    s[i*4:i*4+4]=shuffle(s[i*4:i*4+4])\n",
    "    \n",
    "gp2(s)"
   ]
  },
  {
   "cell_type": "code",
   "execution_count": 14,
   "metadata": {},
   "outputs": [
    {
     "name": "stdout",
     "output_type": "stream",
     "text": [
      " |   |   |   | 2 |10 | 8 |   | 6 | 4 |   | 1 |14 |16 |12 |   | 3\n",
      " |---|---|---|---|---|---|---|---|---|---|---|---|---|---|---|---|\n",
      " |   |16 |   | 3 | 9 |11 |15 |   |   | 8 | 5 |10 |   |   |   | 7\n",
      " |---|---|---|---|---|---|---|---|---|---|---|---|---|---|---|---|\n",
      " | 4 | 1 |   |   |16 |   |12 |   | 2 |   |   |   |   |   |10 | 8\n",
      " |---|---|---|---|---|---|---|---|---|---|---|---|---|---|---|---|\n",
      " |   |   |10 | 8 |   |14 | 4 |   | 3 |13 |12 |   |   | 2 |   |  \n",
      " |---|---|---|---|---|---|---|---|---|---|---|---|---|---|---|---|\n",
      " | 7 | 4 | 1 |14 |   |   |   |13 |   | 9 | 2 |15 | 6 |   | 5 |10\n",
      " |---|---|---|---|---|---|---|---|---|---|---|---|---|---|---|---|\n",
      " | 8 |   | 5 |10 |   |   | 7 |14 |   |16 |   |12 | 2 |   |   | 9\n",
      " |---|---|---|---|---|---|---|---|---|---|---|---|---|---|---|---|\n",
      " |   |12 |16 |13 |   | 9 | 2 |   |   |   |   | 5 |   |   |   |14\n",
      " |---|---|---|---|---|---|---|---|---|---|---|---|---|---|---|---|\n",
      " |   |   | 9 |11 |   |   | 6 |   |   |14 |   |   |12 |   |16 |13\n",
      " |---|---|---|---|---|---|---|---|---|---|---|---|---|---|---|---|\n",
      " |   | 8 | 6 | 5 | 7 |   |14 | 1 |16 |12 |13 | 3 |11 |   |   |15\n",
      " |---|---|---|---|---|---|---|---|---|---|---|---|---|---|---|---|\n",
      " |11 | 2 |   |   |   | 5 |   |   |   |   | 7 |   | 3 |13 |   |16\n",
      " |---|---|---|---|---|---|---|---|---|---|---|---|---|---|---|---|\n",
      " |   |   | 4 |   | 3 |   |13 |16 | 9 |   |11 |   |   |   |   | 5\n",
      " |---|---|---|---|---|---|---|---|---|---|---|---|---|---|---|---|\n",
      " |13 |   |12 |16 | 2 |15 |11 | 9 |   |   | 8 |   |   |14 |   |  \n",
      " |---|---|---|---|---|---|---|---|---|---|---|---|---|---|---|---|\n",
      " |16 |   |   |12 |   | 2 | 9 |   | 5 | 6 |10 |   |14 |   | 7 |  \n",
      " |---|---|---|---|---|---|---|---|---|---|---|---|---|---|---|---|\n",
      " |   |   | 2 |15 | 8 | 6 |   | 5 | 1 |   |14 |   |13 |16 | 3 |12\n",
      " |---|---|---|---|---|---|---|---|---|---|---|---|---|---|---|---|\n",
      " |   |14 | 7 |   |13 |   |16 |   |   | 2 | 9 |   |10 | 5 |   | 6\n",
      " |---|---|---|---|---|---|---|---|---|---|---|---|---|---|---|---|\n",
      " | 5 |10 | 8 | 6 |14 |   |   |   |12 | 3 |16 |13 | 9 |15 |   | 2\n"
     ]
    }
   ],
   "source": [
    "i=0\n",
    "while i<112:\n",
    "    k=random.randint(0,15)\n",
    "    j=random.randint(0,15)\n",
    "    if s[k][j]==' ':\n",
    "        i=i-1\n",
    "    s[k][j]=' '\n",
    "    i=i+1\n",
    "    \n",
    "gp2(s)"
   ]
  },
  {
   "cell_type": "code",
   "execution_count": 45,
   "metadata": {},
   "outputs": [
    {
     "name": "stdout",
     "output_type": "stream",
     "text": [
      "2\n",
      "2\n",
      "3\n",
      "3\n",
      "5\n",
      "5\n"
     ]
    }
   ],
   "source": [
    "def finddup(s):\n",
    "    l=len(s)-1\n",
    "    for i in range(l):\n",
    "        for j in range(l,i,-1):        \n",
    "            if s[i]==s[j]:\n",
    "                print(s[i])\n",
    "                print(s[j])\n",
    "\n",
    "finddup([2,3,5,3,1,2,5])  \n"
   ]
  },
  {
   "cell_type": "code",
   "execution_count": 69,
   "metadata": {},
   "outputs": [
    {
     "name": "stdout",
     "output_type": "stream",
     "text": [
      "[[4, 14, 6, 15, 7, 12, 10, 8, 2, 13, 5, 16, 1, 11, 9, 3], [13, 2, 16, 5, 14, 4, 15, 6, 11, 1, 3, 9, 7, 8, 10, 12], [3, 11, 1, 9, 16, 13, 2, 5, 10, 7, 8, 12, 6, 4, 15, 14], [8, 12, 10, 7, 1, 9, 3, 11, 15, 14, 6, 4, 16, 13, 5, 2], [13, 5, 16, 2, 14, 6, 15, 4, 11, 9, 3, 1, 12, 10, 8, 7], [9, 11, 1, 3, 5, 13, 2, 16, 12, 7, 8, 10, 6, 14, 4, 15], [8, 12, 7, 10, 1, 9, 11, 3, 15, 14, 4, 6, 2, 5, 13, 16], [4, 6, 15, 14, 7, 10, 8, 12, 2, 5, 16, 13, 11, 3, 1, 9], [6, 15, 4, 14, 10, 8, 7, 12, 5, 16, 2, 13, 9, 3, 1, 11], [16, 5, 13, 2, 15, 6, 14, 4, 3, 9, 11, 1, 10, 12, 7, 8], [11, 3, 9, 1, 13, 16, 5, 2, 7, 10, 12, 8, 4, 6, 14, 15], [12, 8, 7, 10, 9, 1, 11, 3, 14, 15, 4, 6, 13, 16, 2, 5], [8, 7, 12, 10, 3, 1, 11, 9, 16, 2, 13, 5, 15, 4, 14, 6], [4, 15, 6, 14, 8, 10, 12, 7, 1, 3, 9, 11, 2, 16, 5, 13], [5, 2, 16, 13, 14, 15, 6, 4, 12, 8, 10, 7, 9, 1, 3, 11], [3, 11, 9, 1, 5, 2, 13, 16, 6, 4, 14, 15, 10, 7, 12, 8]] /////////////\n",
      "\n",
      "[[4, 7, 2, 1, 13, 14, 11, 12, 6, 10, 5, 9, 8, 3, 16, 15], [14, 12, 13, 11, 5, 6, 9, 10, 15, 8, 16, 3, 7, 1, 2, 4], [6, 10, 5, 9, 16, 15, 3, 8, 4, 7, 2, 1, 12, 11, 13, 14], [15, 8, 16, 3, 2, 4, 1, 7, 14, 12, 13, 11, 10, 9, 5, 6], [13, 14, 11, 7, 9, 5, 12, 6, 16, 15, 3, 10, 4, 8, 1, 2], [2, 4, 1, 8, 11, 13, 7, 14, 5, 6, 9, 12, 15, 10, 3, 16], [16, 15, 3, 10, 1, 2, 8, 4, 13, 14, 11, 7, 6, 12, 9, 5], [5, 6, 9, 12, 3, 16, 10, 15, 2, 4, 1, 8, 14, 7, 11, 13], [3, 16, 10, 6, 8, 1, 15, 2, 11, 13, 7, 4, 5, 14, 12, 9], [11, 13, 7, 4, 12, 9, 14, 5, 3, 16, 10, 6, 2, 15, 8, 1], [1, 2, 8, 15, 7, 11, 4, 13, 9, 5, 12, 14, 16, 6, 10, 3], [9, 5, 12, 14, 10, 3, 6, 16, 1, 2, 8, 15, 13, 4, 7, 11], [8, 1, 15, 16, 4, 7, 2, 11, 12, 9, 14, 13, 3, 5, 6, 10], [12, 9, 14, 13, 6, 10, 5, 3, 8, 1, 15, 16, 11, 2, 4, 7], [10, 3, 6, 5, 15, 8, 16, 1, 7, 11, 4, 2, 9, 13, 14, 12], [7, 11, 4, 2, 14, 12, 13, 9, 10, 3, 6, 5, 1, 16, 15, 8]] /////////////\n",
      "\n",
      "[[4, 14, 6, 15, 13, 2, 16, 5, 3, 11, 1, 9, 8, 12, 10, 7], [7, 12, 10, 8, 14, 4, 15, 6, 16, 13, 2, 5, 1, 9, 3, 11], [2, 13, 5, 16, 11, 1, 3, 9, 10, 7, 8, 12, 15, 14, 6, 4], [1, 11, 9, 3, 7, 8, 10, 12, 6, 4, 15, 14, 16, 13, 5, 2], [13, 5, 16, 2, 9, 11, 1, 3, 8, 12, 7, 10, 4, 6, 15, 14], [14, 6, 15, 4, 5, 13, 2, 16, 1, 9, 11, 3, 7, 10, 8, 12], [11, 9, 3, 1, 12, 7, 8, 10, 15, 14, 4, 6, 2, 5, 16, 13], [12, 10, 8, 7, 6, 14, 4, 15, 2, 5, 13, 16, 11, 3, 1, 9], [6, 15, 4, 14, 16, 5, 13, 2, 11, 3, 9, 1, 12, 8, 7, 10], [10, 8, 7, 12, 15, 6, 14, 4, 13, 16, 5, 2, 9, 1, 11, 3], [5, 16, 2, 13, 3, 9, 11, 1, 7, 10, 12, 8, 14, 15, 4, 6], [9, 3, 1, 11, 10, 12, 7, 8, 4, 6, 14, 15, 13, 16, 2, 5], [8, 7, 12, 10, 4, 15, 6, 14, 5, 2, 16, 13, 3, 11, 9, 1], [3, 1, 11, 9, 8, 10, 12, 7, 14, 15, 6, 4, 5, 2, 13, 16], [16, 2, 13, 5, 1, 3, 9, 11, 12, 8, 10, 7, 6, 4, 14, 15], [15, 4, 14, 6, 2, 16, 5, 13, 9, 1, 3, 11, 10, 7, 12, 8]] /////////////\n",
      "\n"
     ]
    }
   ],
   "source": [
    "l=int(len(s)**0.5)\n",
    "checkboxes=[]\n",
    "checkrows=[]\n",
    "checkcols=[]\n",
    "\n",
    "for k in range(l):\n",
    "    for n in range(l):\n",
    "        t=[]\n",
    "        for i in range(l):\n",
    "            for j in range(l):\n",
    "                t.append(s[i+k*4][j+n*4]);\n",
    "        checkboxes.append(t)\n",
    "\n",
    "\n",
    "\n",
    "for i in range(l**2):\n",
    "    checkrows.append(s[i])\n",
    "\n",
    "temps=mirror(s)\n",
    "for i in range(l**2):\n",
    "    checkcols.append(temps[i])\n",
    "    \n",
    "\n",
    "print(checkboxes,'/////////////\\n')\n",
    "print(checkcols,'/////////////\\n')\n",
    "print(checkrows,'/////////////\\n')\n",
    "\n",
    "for i in range()"
   ]
  },
  {
   "cell_type": "code",
   "execution_count": 55,
   "metadata": {},
   "outputs": [
    {
     "name": "stdout",
     "output_type": "stream",
     "text": [
      " | 4 |14 | 6 |15 |13 | 2 |16 | 5 | 3 |11 | 1 | 9 | 8 |12 |10 | 7\n",
      " |---|---|---|---|---|---|---|---|---|---|---|---|---|---|---|---|\n",
      " | 7 |12 |10 | 8 |14 | 4 |15 | 6 |16 |13 | 2 | 5 | 1 | 9 | 3 |11\n",
      " |---|---|---|---|---|---|---|---|---|---|---|---|---|---|---|---|\n",
      " | 2 |13 | 5 |16 |11 | 1 | 3 | 9 |10 | 7 | 8 |12 |15 |14 | 6 | 4\n",
      " |---|---|---|---|---|---|---|---|---|---|---|---|---|---|---|---|\n",
      " | 1 |11 | 9 | 3 | 7 | 8 |10 |12 | 6 | 4 |15 |14 |16 |13 | 5 | 2\n",
      " |---|---|---|---|---|---|---|---|---|---|---|---|---|---|---|---|\n",
      " |13 | 5 |16 | 2 | 9 |11 | 1 | 3 | 8 |12 | 7 |10 | 4 | 6 |15 |14\n",
      " |---|---|---|---|---|---|---|---|---|---|---|---|---|---|---|---|\n",
      " |14 | 6 |15 | 4 | 5 |13 | 2 |16 | 1 | 9 |11 | 3 | 7 |10 | 8 |12\n",
      " |---|---|---|---|---|---|---|---|---|---|---|---|---|---|---|---|\n",
      " |11 | 9 | 3 | 1 |12 | 7 | 8 |10 |15 |14 | 4 | 6 | 2 | 5 |16 |13\n",
      " |---|---|---|---|---|---|---|---|---|---|---|---|---|---|---|---|\n",
      " |12 |10 | 8 | 7 | 6 |14 | 4 |15 | 2 | 5 |13 |16 |11 | 3 | 1 | 9\n",
      " |---|---|---|---|---|---|---|---|---|---|---|---|---|---|---|---|\n",
      " | 6 |15 | 4 |14 |16 | 5 |13 | 2 |11 | 3 | 9 | 1 |12 | 8 | 7 |10\n",
      " |---|---|---|---|---|---|---|---|---|---|---|---|---|---|---|---|\n",
      " |10 | 8 | 7 |12 |15 | 6 |14 | 4 |13 |16 | 5 | 2 | 9 | 1 |11 | 3\n",
      " |---|---|---|---|---|---|---|---|---|---|---|---|---|---|---|---|\n",
      " | 5 |16 | 2 |13 | 3 | 9 |11 | 1 | 7 |10 |12 | 8 |14 |15 | 4 | 6\n",
      " |---|---|---|---|---|---|---|---|---|---|---|---|---|---|---|---|\n",
      " | 9 | 3 | 1 |11 |10 |12 | 7 | 8 | 4 | 6 |14 |15 |13 |16 | 2 | 5\n",
      " |---|---|---|---|---|---|---|---|---|---|---|---|---|---|---|---|\n",
      " | 8 | 7 |12 |10 | 4 |15 | 6 |14 | 5 | 2 |16 |13 | 3 |11 | 9 | 1\n",
      " |---|---|---|---|---|---|---|---|---|---|---|---|---|---|---|---|\n",
      " | 3 | 1 |11 | 9 | 8 |10 |12 | 7 |14 |15 | 6 | 4 | 5 | 2 |13 |16\n",
      " |---|---|---|---|---|---|---|---|---|---|---|---|---|---|---|---|\n",
      " |16 | 2 |13 | 5 | 1 | 3 | 9 |11 |12 | 8 |10 | 7 | 6 | 4 |14 |15\n",
      " |---|---|---|---|---|---|---|---|---|---|---|---|---|---|---|---|\n",
      " |15 | 4 |14 | 6 | 2 |16 | 5 |13 | 9 | 1 | 3 |11 |10 | 7 |12 | 8\n"
     ]
    }
   ],
   "source": [
    "gp2(s)                 "
   ]
  },
  {
   "cell_type": "code",
   "execution_count": 41,
   "metadata": {},
   "outputs": [
    {
     "name": "stdout",
     "output_type": "stream",
     "text": [
      "2\n",
      "2\n",
      "3\n",
      "3\n",
      "5\n",
      "5\n"
     ]
    }
   ],
   "source": []
  },
  {
   "cell_type": "code",
   "execution_count": 39,
   "metadata": {},
   "outputs": [
    {
     "name": "stdout",
     "output_type": "stream",
     "text": [
      "30\n",
      "29\n",
      "28\n",
      "27\n",
      "26\n",
      "25\n",
      "24\n",
      "23\n",
      "22\n",
      "21\n",
      "20\n",
      "19\n",
      "18\n",
      "17\n",
      "16\n",
      "15\n",
      "14\n",
      "13\n",
      "12\n",
      "11\n",
      "10\n",
      "9\n",
      "8\n",
      "7\n",
      "6\n"
     ]
    }
   ],
   "source": [
    "for i in range(30,5,-1):\n",
    "    print(i)"
   ]
  },
  {
   "cell_type": "code",
   "execution_count": null,
   "metadata": {},
   "outputs": [],
   "source": []
  }
 ],
 "metadata": {
  "kernelspec": {
   "display_name": "Python 3",
   "language": "python",
   "name": "python3"
  },
  "language_info": {
   "codemirror_mode": {
    "name": "ipython",
    "version": 3
   },
   "file_extension": ".py",
   "mimetype": "text/x-python",
   "name": "python",
   "nbconvert_exporter": "python",
   "pygments_lexer": "ipython3",
   "version": "3.6.9"
  }
 },
 "nbformat": 4,
 "nbformat_minor": 4
}
